import pandas as pd
from sklearn.tree import DecisionTreeClassifier
import joblib
from sklearn import tree

table = pd.read_csv('music.csv')

col = table.drop(columns=['genre'])

content = table['genre'] #select an specific column


bot = DecisionTreeClassifier()

bot.fit(col, content)

#joblib.dump(bot, 'musicRecommender.joblib')
out = bot.predict([[21,1], [23,0]]) # predictions 

dot_data = tree.export_graphviz(bot, out_file='musicRecommender.dot', 
                                feature_names=['age','gender'],
                                class_names=sorted(content.unique()),
                                label = 'all',
                                rounded=True,
                                filled = True)
                                
                                
out
